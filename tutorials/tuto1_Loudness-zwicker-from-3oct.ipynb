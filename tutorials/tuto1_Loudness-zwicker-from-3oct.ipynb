{
 "cells": [
  {
   "cell_type": "markdown",
   "metadata": {},
   "source": [
    "# How to calculate Zwicker loudness from third octave band spectrum"
   ]
  },
  {
   "cell_type": "markdown",
   "metadata": {},
   "source": [
    "MoSQITo is a unified and modular development framework of key sound quality metrics favoring reproducible science and efficient shared scripting among engineers, teachers and researchers community.\n",
    "\n",
    "This tutorial explains how to calculate the acoustic loudness (Zwicker method) of a steady signal from its third octave band spectrum."
   ]
  },
  {
   "cell_type": "code",
   "execution_count": 1,
   "metadata": {},
   "outputs": [],
   "source": [
    "# Add MoSQITo to the Python path\n",
    "import sys\n",
    "sys.path.append('..')\n",
    "\n",
    "# Import useful packages\n",
    "import numpy as np\n",
    "import matplotlib.pyplot as plt\n",
    "\n",
    "# Import MoSQITo modules\n",
    "from mosqito.loudness.loudness_zwicker_stationary import loudness_zwicker_stationary"
   ]
  },
  {
   "cell_type": "markdown",
   "metadata": {},
   "source": [
    "First a third octave band spectrum is defined. The spectrum shall include 28 third octave levels from 25 Hz to 12500 Hz in dB re. $2.10^{-5}$ Pa. For the tutorial, the test signal from ISO 532-1 annex B2 is used (machinery noise in free field). "
   ]
  },
  {
   "cell_type": "code",
   "execution_count": 2,
   "metadata": {},
   "outputs": [],
   "source": [
    "# Third octave levels as input for stationary loudness\n",
    "# (from ISO 532-1 annex B2)\n",
    "test_signal_1 = np.array([\n",
    "    -60,\n",
    "    -60,\n",
    "    78,\n",
    "    79,\n",
    "    89,\n",
    "    72,\n",
    "    80,\n",
    "    89,\n",
    "    75,\n",
    "    87,\n",
    "    85,\n",
    "    79,\n",
    "    86,\n",
    "    80,\n",
    "    71,\n",
    "    70,\n",
    "    72,\n",
    "    71,\n",
    "    72,\n",
    "    74,\n",
    "    69,\n",
    "    65,\n",
    "    67,\n",
    "    77,\n",
    "    68,\n",
    "    58,\n",
    "    45,\n",
    "    30.0])"
   ]
  },
  {
   "cell_type": "markdown",
   "metadata": {},
   "source": [
    "Then the script \"loudness_zwicker_stationary\" is called with the third octave band spectrum and the field type as input parameters. The script calculate the loudness *N* in sones, the specific loudness *N_specific* in sones/Bark and the corresponding critical band rate scale *bark_axis* in Bark."
   ]
  },
  {
   "cell_type": "code",
   "execution_count": 3,
   "metadata": {},
   "outputs": [
    {
     "name": "stdout",
     "output_type": "stream",
     "text": [
      "Loudness = 83.3 sone\n"
     ]
    },
    {
     "data": {
      "image/png": "[encoded data removed]",
      "text/plain": [
       "<Figure size 432x288 with 1 Axes>"
      ]
     },
     "metadata": {
      "needs_background": "light"
     },
     "output_type": "display_data"
    }
   ],
   "source": [
    "N, N_specific, bark_axis = loudness_zwicker_stationary(test_signal_1, field_type=\"free\")\n",
    "print('Loudness = ' + str(N) + ' sone')\n",
    "plt.plot(bark_axis, N_specific)\n",
    "plt.xlabel(\"Critical band rate [Bark]\")\n",
    "plt.ylabel(\"Specific loudness, [sones/Bark]\")\n",
    "plt.show()"
   ]
  }
 ],
 "metadata": {
  "kernelspec": {
   "display_name": "Python 3",
   "language": "python",
   "name": "python3"
  },
  "language_info": {
   "codemirror_mode": {
    "name": "ipython",
    "version": 3
   },
   "file_extension": ".py",
   "mimetype": "text/x-python",
   "name": "python",
   "nbconvert_exporter": "python",
   "pygments_lexer": "ipython3",
   "version": "3.7.6"
  }
 },
 "nbformat": 4,
 "nbformat_minor": 4
}
